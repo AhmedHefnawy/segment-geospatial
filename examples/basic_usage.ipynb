{
  "cells": [
    {
      "attachments": {},
      "cell_type": "markdown",
      "metadata": {
        "id": "W-IgodFVKrQO"
      },
      "source": [
        "# Segment Anything Model for Geospatial Data \n",
        "\n",
        "[![image](https://studiolab.sagemaker.aws/studiolab.svg)](https://studiolab.sagemaker.aws/import/github/opengeos/segment-geospatial/blob/main/examples/basic_usage.ipynb)\n",
        "[![image](https://img.shields.io/badge/Open-Planetary%20Computer-black?style=flat&logo=microsoft)](https://pccompute.westeurope.cloudapp.azure.com/compute/hub/user-redirect/git-pull?repo=https://github.com/opengeos/segment-geospatial&urlpath=lab/tree/segment-geospatial/examples/basic_usage.ipynb&branch=main)\n",
        "[![image](https://colab.research.google.com/assets/colab-badge.svg)](https://colab.research.google.com/github/opengeos/segment-geospatial/blob/main/examples/basic_usage.ipynb)\n",
        "\n",
        "The source code is adapted from [segment-anything-eo](https://github.com/aliaksandr960/segment-anything-eo) repository. Credit to the author [Aliaksandr Hancharenka](https://github.com/aliaksandr960)."
      ]
    },
    {
      "cell_type": "markdown",
      "metadata": {
        "id": "OeFjtBlhKxh4"
      },
      "source": [
        "This tool is developed to easy process spatial data (GeoTIFF and TMS) with Meta AI Segment Anything models\n",
        "\n",
        "You can:\n",
        "- download TMS data as GeoTIFF files\n",
        "- process GeoTIFF files with Meta AI Segment Anything models\n",
        "- save inference data as GeoTIFF raster data or GPKG vector data"
      ]
    },
    {
      "cell_type": "markdown",
      "metadata": {
        "id": "KyZq008jL64p"
      },
      "source": [
        "## Install dependencies"
      ]
    },
    {
      "cell_type": "code",
      "execution_count": null,
      "metadata": {
        "colab": {
          "base_uri": "https://localhost:8080/"
        },
        "id": "L42UgbyJ6j8W",
        "outputId": "6924c5c8-39a0-4ac6-f114-9f1f8d102e88"
      },
      "outputs": [],
      "source": [
        "# %pip install git+https://github.com/opengeos/segment-geospatial.git"
      ]
    },
    {
      "cell_type": "code",
      "execution_count": null,
      "metadata": {
        "id": "J-Yk9v21G9O2"
      },
      "outputs": [],
      "source": [
        "import os\n",
        "out_dir = '/content/segment-geospatial/'\n",
        "os.makedirs(out_dir, exist_ok=True)\n",
        "os.chdir(out_dir)"
      ]
    },
    {
      "cell_type": "code",
      "execution_count": null,
      "metadata": {
        "colab": {
          "base_uri": "https://localhost:8080/"
        },
        "id": "pj5yjhMA6nBV",
        "outputId": "f23e269f-43b6-4fad-8ace-9184077b6916"
      },
      "outputs": [],
      "source": [
        "!wget https://dl.fbaipublicfiles.com/segment_anything/sam_vit_h_4b8939.pth\n",
        "# !wget https://dl.fbaipublicfiles.com/segment_anything/sam_vit_l_0b3195.pth\n",
        "# !wget https://dl.fbaipublicfiles.com/segment_anything/sam_vit_b_01ec64.pth"
      ]
    },
    {
      "cell_type": "code",
      "execution_count": null,
      "metadata": {
        "id": "w5bDCQOV7gvZ"
      },
      "outputs": [],
      "source": [
        "import cv2\n",
        "import matplotlib.pyplot as plt\n",
        "from samgeo import SamGeo"
      ]
    },
    {
      "cell_type": "markdown",
      "metadata": {
        "id": "F1YUWHeWMDet"
      },
      "source": [
        "## Initialize SamGeo class"
      ]
    },
    {
      "cell_type": "code",
      "execution_count": null,
      "metadata": {
        "id": "0XzAeiGW8rNk"
      },
      "outputs": [],
      "source": [
        "# Available SamGeo arguments:\n",
        "# checkpoint=\"sam_vit_h_4b8939.pth\",\n",
        "# model_type='vit_h',\n",
        "# device='cpu',\n",
        "# erosion_kernel=(3, 3),\n",
        "# mask_multiplier=255,\n",
        "# sam_kwargs=None\n",
        "\n",
        "# Available sam_kwargs:\n",
        "# points_per_side: Optional[int] = 32,\n",
        "# points_per_batch: int = 64,\n",
        "# pred_iou_thresh: float = 0.88,\n",
        "# stability_score_thresh: float = 0.95,\n",
        "# stability_score_offset: float = 1.0,\n",
        "# box_nms_thresh: float = 0.7,\n",
        "# crop_n_layers: int = 0,\n",
        "# crop_nms_thresh: float = 0.7,\n",
        "# crop_overlap_ratio: float = 512 / 1500,\n",
        "# crop_n_points_downscale_factor: int = 1,\n",
        "# point_grids: Optional[List[np.ndarray]] = None,\n",
        "# min_mask_region_area: int = 0,\n",
        "# output_mode: str = \"binary_mask\",\n",
        "\n",
        "device = 'cuda:0'\n",
        "\n",
        "sam_eo = SamGeo(checkpoint=\"sam_vit_h_4b8939.pth\",\n",
        "               model_type='vit_h',\n",
        "               device=device,\n",
        "               erosion_kernel=(3, 3),\n",
        "               mask_multiplier=255,\n",
        "               sam_kwargs=None)"
      ]
    },
    {
      "cell_type": "markdown",
      "metadata": {
        "id": "rBYMot8KMLMk"
      },
      "source": [
        "## Download file from OpenAerialMap and save it"
      ]
    },
    {
      "cell_type": "code",
      "execution_count": null,
      "metadata": {
        "colab": {
          "base_uri": "https://localhost:8080/"
        },
        "id": "ZAggTXOR7yIk",
        "outputId": "78ff041f-e6bd-4389-ec68-c94b1989c9f9"
      },
      "outputs": [],
      "source": [
        "tms_source = 'https://tiles.openaerialmap.org/642385491a8878000512126c/0/642385491a8878000512126d/{z}/{x}/{y}'\n",
        "pt1 = (29.676840, -95.369222)\n",
        "pt2 = (29.678559, -95.367314)\n",
        "zoom = 20\n",
        "tms_tiff_path = 'test_tms_image.tif'\n",
        "\n",
        "image = sam_eo.download_tms_as_tiff(tms_source, pt1, pt2, zoom, tms_tiff_path)\n",
        "tiff_image = cv2.cvtColor(cv2.imread(tms_tiff_path), cv2.COLOR_BGR2RGB)"
      ]
    },
    {
      "cell_type": "code",
      "execution_count": null,
      "metadata": {
        "colab": {
          "base_uri": "https://localhost:8080/",
          "height": 316
        },
        "id": "cTff_Z1I9cxi",
        "outputId": "d353ecec-e390-4bab-b6ed-ee48ed0adf86"
      },
      "outputs": [],
      "source": [
        "plt.figure()\n",
        "f, axarr = plt.subplots(1,2)\n",
        "axarr[0].imshow(image)\n",
        "axarr[1].imshow(tiff_image)\n",
        "plt.show()"
      ]
    },
    {
      "cell_type": "markdown",
      "metadata": {
        "id": "x7UvOgzoMSGg"
      },
      "source": [
        "## Run inference and save result as tiff file"
      ]
    },
    {
      "cell_type": "code",
      "execution_count": null,
      "metadata": {
        "colab": {
          "base_uri": "https://localhost:8080/"
        },
        "id": "mG6OdR6T-tKI",
        "outputId": "7335590d-d3ea-45f6-ba14-9ef75b9af0b6"
      },
      "outputs": [],
      "source": [
        "pred_tiff_path = 'pred.tiff'\n",
        "sam_eo.tiff_to_tiff(tms_tiff_path, pred_tiff_path)"
      ]
    },
    {
      "cell_type": "code",
      "execution_count": null,
      "metadata": {
        "colab": {
          "base_uri": "https://localhost:8080/",
          "height": 316
        },
        "id": "h1julewLBcxw",
        "outputId": "f9e0a34d-86fe-4829-8667-20c2d28ea0ab"
      },
      "outputs": [],
      "source": [
        "pred_image = cv2.cvtColor(cv2.imread(pred_tiff_path), cv2.COLOR_BGR2RGB)\n",
        "\n",
        "plt.figure()\n",
        "f, axarr = plt.subplots(1,2)\n",
        "axarr[0].imshow(image)\n",
        "axarr[1].imshow(pred_image)\n",
        "plt.show()"
      ]
    },
    {
      "cell_type": "markdown",
      "metadata": {
        "id": "k6caNqkQMVTz"
      },
      "source": [
        "## Polygonize result and save as GPKG file"
      ]
    },
    {
      "cell_type": "code",
      "execution_count": null,
      "metadata": {
        "id": "UYnth2kzD-o8"
      },
      "outputs": [],
      "source": [
        "# Adjust simplification tolerance to reduce size (it could be bigger, than raster)\n",
        "sam_eo.tiff_to_gpkg(pred_tiff_path, 'pred.gpkg', simplify_tolerance=None)"
      ]
    }
  ],
  "metadata": {
    "accelerator": "GPU",
    "colab": {
      "provenance": []
    },
    "gpuClass": "standard",
    "kernelspec": {
      "display_name": "Python 3",
      "name": "python3"
    },
    "language_info": {
      "codemirror_mode": {
        "name": "ipython",
        "version": 3
      },
      "file_extension": ".py",
      "mimetype": "text/x-python",
      "name": "python",
      "nbconvert_exporter": "python",
      "pygments_lexer": "ipython3",
      "version": "3.9.16"
    }
  },
  "nbformat": 4,
  "nbformat_minor": 0
}
